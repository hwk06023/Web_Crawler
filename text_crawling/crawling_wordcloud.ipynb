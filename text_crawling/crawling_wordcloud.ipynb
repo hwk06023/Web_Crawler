{
 "cells": [
  {
   "cell_type": "code",
   "execution_count": 1,
   "metadata": {},
   "outputs": [],
   "source": [
    "from selenium import webdriver\n",
    "from selenium.webdriver.common.keys import Keys\n",
    "from selenium.webdriver.common.by import By\n",
    "from bs4 import BeautifulSoup\n",
    "import os\n",
    "from selenium.webdriver import ActionChains\n",
    "from selenium.webdriver.support import expected_conditions as EC\n",
    "from selenium.webdriver.support.ui import Select\n",
    "from selenium.webdriver.support.ui import WebDriverWait"
   ]
  },
  {
   "cell_type": "code",
   "execution_count": 2,
   "metadata": {},
   "outputs": [],
   "source": [
    "def createDirectory(directory):\n",
    "    try:\n",
    "        if not os.path.exists(directory):\n",
    "            os.makedirs(directory)\n",
    "    except OSError:\n",
    "        print(\"Warning: Failed to create the directory.\")"
   ]
  },
  {
   "cell_type": "code",
   "execution_count": 3,
   "metadata": {},
   "outputs": [],
   "source": [
    "# 검색어 지정\n",
    "search_text = '삼성전자'"
   ]
  },
  {
   "cell_type": "markdown",
   "metadata": {},
   "source": [
    "\"MjjYud\" - class name"
   ]
  },
  {
   "cell_type": "code",
   "execution_count": 4,
   "metadata": {},
   "outputs": [
    {
     "name": "stdout",
     "output_type": "stream",
     "text": [
      "삼성전자 - Google 검색\n",
      "['https://www.samsung.com/sec/aboutsamsung/', 'https://twitter.com/search?q=%EC%82%BC%EC%84%B1+%EC%A0%84%EC%9E%90&ref_src=twsrc%5Egoogle%7Ctwcamp%5Eserp%7Ctwgr%5Esearch', 'https://www.samsungcareers.com/', 'https://www.samsungsvc.co.kr/', 'https://www.samsungstore.com/', 'https://namu.wiki/w/%EC%82%BC%EC%84%B1%EC%A0%84%EC%9E%90', 'http://www.sec.co.kr/', 'https://www.google.com/search?sca_esv=564443435&q=%EC%82%BC%EC%84%B1%EC%A0%84%EC%9E%90&npsic=0&rflfq=1&rldoc=1&rllag=37315642,126842507,1134&tbm=lcl&sa=X&ved=2ahUKEwjv3c-CoaOBAxUKdt4KHWzYB4YQtgN6BAhlEAI']\n"
     ]
    },
    {
     "ename": "NoSuchWindowException",
     "evalue": "Message: no such window: target window already closed\nfrom unknown error: web view not found\n  (Session info: chrome=116.0.5845.179)\nStacktrace:\n0   chromedriver                        0x000000010a201638 chromedriver + 5002808\n1   chromedriver                        0x000000010a1f8a53 chromedriver + 4966995\n2   chromedriver                        0x0000000109da9a57 chromedriver + 449111\n3   chromedriver                        0x0000000109d7c8a1 chromedriver + 264353\n4   chromedriver                        0x0000000109e1b76f chromedriver + 915311\n5   chromedriver                        0x0000000109e30976 chromedriver + 1001846\n6   chromedriver                        0x0000000109e161c3 chromedriver + 893379\n7   chromedriver                        0x0000000109de1df9 chromedriver + 679417\n8   chromedriver                        0x0000000109de2fde chromedriver + 683998\n9   chromedriver                        0x000000010a1be2d9 chromedriver + 4727513\n10  chromedriver                        0x000000010a1c32de chromedriver + 4747998\n11  chromedriver                        0x000000010a1812c9 chromedriver + 4477641\n12  chromedriver                        0x000000010a1c402d chromedriver + 4751405\n13  chromedriver                        0x000000010a1970ec chromedriver + 4567276\n14  chromedriver                        0x000000010a1e17f8 chromedriver + 4872184\n15  chromedriver                        0x000000010a1e19b7 chromedriver + 4872631\n16  chromedriver                        0x000000010a1f1a1f chromedriver + 4938271\n17  libsystem_pthread.dylib             0x00007ff81a2601d3 _pthread_start + 125\n18  libsystem_pthread.dylib             0x00007ff81a25bbd3 thread_start + 15\n",
     "output_type": "error",
     "traceback": [
      "\u001b[0;31m---------------------------------------------------------------------------\u001b[0m",
      "\u001b[0;31mNoSuchWindowException\u001b[0m                     Traceback (most recent call last)",
      "Cell \u001b[0;32mIn[4], line 22\u001b[0m\n\u001b[1;32m     20\u001b[0m \u001b[39mfor\u001b[39;00m link \u001b[39min\u001b[39;00m link_list:\n\u001b[1;32m     21\u001b[0m     driver\u001b[39m.\u001b[39mget(link)\n\u001b[0;32m---> 22\u001b[0m     html \u001b[39m=\u001b[39m driver\u001b[39m.\u001b[39;49mpage_source \n\u001b[1;32m     23\u001b[0m     soup \u001b[39m=\u001b[39m BeautifulSoup(html, \u001b[39m'\u001b[39m\u001b[39mhtml.parser\u001b[39m\u001b[39m'\u001b[39m) \n\u001b[1;32m     24\u001b[0m     f \u001b[39m=\u001b[39m \u001b[39mopen\u001b[39m(\u001b[39m'\u001b[39m\u001b[39m./finded_\u001b[39m\u001b[39m'\u001b[39m\u001b[39m+\u001b[39m search_text \u001b[39m+\u001b[39m\u001b[39m'\u001b[39m\u001b[39m/\u001b[39m\u001b[39m'\u001b[39m \u001b[39m+\u001b[39m \u001b[39mstr\u001b[39m(p_num) \u001b[39m+\u001b[39m \u001b[39m'\u001b[39m\u001b[39m.txt\u001b[39m\u001b[39m'\u001b[39m, \u001b[39m'\u001b[39m\u001b[39mw\u001b[39m\u001b[39m'\u001b[39m, encoding\u001b[39m=\u001b[39m\u001b[39m'\u001b[39m\u001b[39mutf-8\u001b[39m\u001b[39m'\u001b[39m)\n",
      "File \u001b[0;32m~/.pyenv/versions/3.8.6/lib/python3.8/site-packages/selenium/webdriver/remote/webdriver.py:445\u001b[0m, in \u001b[0;36mWebDriver.page_source\u001b[0;34m(self)\u001b[0m\n\u001b[1;32m    436\u001b[0m \u001b[39m@property\u001b[39m\n\u001b[1;32m    437\u001b[0m \u001b[39mdef\u001b[39;00m \u001b[39mpage_source\u001b[39m(\u001b[39mself\u001b[39m) \u001b[39m-\u001b[39m\u001b[39m>\u001b[39m \u001b[39mstr\u001b[39m:\n\u001b[1;32m    438\u001b[0m \u001b[39m    \u001b[39m\u001b[39m\"\"\"Gets the source of the current page.\u001b[39;00m\n\u001b[1;32m    439\u001b[0m \n\u001b[1;32m    440\u001b[0m \u001b[39m    :Usage:\u001b[39;00m\n\u001b[0;32m   (...)\u001b[0m\n\u001b[1;32m    443\u001b[0m \u001b[39m            driver.page_source\u001b[39;00m\n\u001b[1;32m    444\u001b[0m \u001b[39m    \"\"\"\u001b[39;00m\n\u001b[0;32m--> 445\u001b[0m     \u001b[39mreturn\u001b[39;00m \u001b[39mself\u001b[39;49m\u001b[39m.\u001b[39;49mexecute(Command\u001b[39m.\u001b[39;49mGET_PAGE_SOURCE)[\u001b[39m\"\u001b[39m\u001b[39mvalue\u001b[39m\u001b[39m\"\u001b[39m]\n",
      "File \u001b[0;32m~/.pyenv/versions/3.8.6/lib/python3.8/site-packages/selenium/webdriver/remote/webdriver.py:344\u001b[0m, in \u001b[0;36mWebDriver.execute\u001b[0;34m(self, driver_command, params)\u001b[0m\n\u001b[1;32m    342\u001b[0m response \u001b[39m=\u001b[39m \u001b[39mself\u001b[39m\u001b[39m.\u001b[39mcommand_executor\u001b[39m.\u001b[39mexecute(driver_command, params)\n\u001b[1;32m    343\u001b[0m \u001b[39mif\u001b[39;00m response:\n\u001b[0;32m--> 344\u001b[0m     \u001b[39mself\u001b[39;49m\u001b[39m.\u001b[39;49merror_handler\u001b[39m.\u001b[39;49mcheck_response(response)\n\u001b[1;32m    345\u001b[0m     response[\u001b[39m\"\u001b[39m\u001b[39mvalue\u001b[39m\u001b[39m\"\u001b[39m] \u001b[39m=\u001b[39m \u001b[39mself\u001b[39m\u001b[39m.\u001b[39m_unwrap_value(response\u001b[39m.\u001b[39mget(\u001b[39m\"\u001b[39m\u001b[39mvalue\u001b[39m\u001b[39m\"\u001b[39m, \u001b[39mNone\u001b[39;00m))\n\u001b[1;32m    346\u001b[0m     \u001b[39mreturn\u001b[39;00m response\n",
      "File \u001b[0;32m~/.pyenv/versions/3.8.6/lib/python3.8/site-packages/selenium/webdriver/remote/errorhandler.py:229\u001b[0m, in \u001b[0;36mErrorHandler.check_response\u001b[0;34m(self, response)\u001b[0m\n\u001b[1;32m    227\u001b[0m         alert_text \u001b[39m=\u001b[39m value[\u001b[39m\"\u001b[39m\u001b[39malert\u001b[39m\u001b[39m\"\u001b[39m]\u001b[39m.\u001b[39mget(\u001b[39m\"\u001b[39m\u001b[39mtext\u001b[39m\u001b[39m\"\u001b[39m)\n\u001b[1;32m    228\u001b[0m     \u001b[39mraise\u001b[39;00m exception_class(message, screen, stacktrace, alert_text)  \u001b[39m# type: ignore[call-arg]  # mypy is not smart enough here\u001b[39;00m\n\u001b[0;32m--> 229\u001b[0m \u001b[39mraise\u001b[39;00m exception_class(message, screen, stacktrace)\n",
      "\u001b[0;31mNoSuchWindowException\u001b[0m: Message: no such window: target window already closed\nfrom unknown error: web view not found\n  (Session info: chrome=116.0.5845.179)\nStacktrace:\n0   chromedriver                        0x000000010a201638 chromedriver + 5002808\n1   chromedriver                        0x000000010a1f8a53 chromedriver + 4966995\n2   chromedriver                        0x0000000109da9a57 chromedriver + 449111\n3   chromedriver                        0x0000000109d7c8a1 chromedriver + 264353\n4   chromedriver                        0x0000000109e1b76f chromedriver + 915311\n5   chromedriver                        0x0000000109e30976 chromedriver + 1001846\n6   chromedriver                        0x0000000109e161c3 chromedriver + 893379\n7   chromedriver                        0x0000000109de1df9 chromedriver + 679417\n8   chromedriver                        0x0000000109de2fde chromedriver + 683998\n9   chromedriver                        0x000000010a1be2d9 chromedriver + 4727513\n10  chromedriver                        0x000000010a1c32de chromedriver + 4747998\n11  chromedriver                        0x000000010a1812c9 chromedriver + 4477641\n12  chromedriver                        0x000000010a1c402d chromedriver + 4751405\n13  chromedriver                        0x000000010a1970ec chromedriver + 4567276\n14  chromedriver                        0x000000010a1e17f8 chromedriver + 4872184\n15  chromedriver                        0x000000010a1e19b7 chromedriver + 4872631\n16  chromedriver                        0x000000010a1f1a1f chromedriver + 4938271\n17  libsystem_pthread.dylib             0x00007ff81a2601d3 _pthread_start + 125\n18  libsystem_pthread.dylib             0x00007ff81a25bbd3 thread_start + 15\n"
     ]
    }
   ],
   "source": [
    "driver = webdriver.Chrome()\n",
    "driver.get('https://www.google.com/search?q='+ search_text)\n",
    "\n",
    "print(driver.title)\n",
    "\n",
    "html = driver.page_source \n",
    "soup = BeautifulSoup(html, 'html.parser') \n",
    "\n",
    "link_list = []\n",
    "for i in range(2, 10):\n",
    "    a = driver.find_element(By.XPATH, '//*[@id=\"rso\"]/div['+str(i)+']')\n",
    "    link_list.append(a.find_element(By.TAG_NAME, 'a').get_attribute('href'))\n",
    "\n",
    "print(link_list)\n",
    "createDirectory('./finded_'+ search_text)\n",
    "\n",
    "# 검색 결과 페이지에서 하나씩 열어서 내용 전부 크롤링\n",
    "\n",
    "p_num = 0\n",
    "for link in link_list:\n",
    "    driver.get(link)\n",
    "    html = driver.page_source \n",
    "    soup = BeautifulSoup(html, 'html.parser') \n",
    "    f = open('./finded_'+ search_text +'/' + str(p_num) + '.txt', 'w', encoding='utf-8')\n",
    "    f.write(soup.text)\n",
    "    p_num += 1\n",
    "    f.close()\n",
    "\n",
    "driver.close()"
   ]
  },
  {
   "cell_type": "code",
   "execution_count": 5,
   "metadata": {},
   "outputs": [],
   "source": [
    "from wordcloud import WordCloud\n",
    "from konlpy.tag import Twitter\n",
    "from collections import Counter"
   ]
  },
  {
   "cell_type": "code",
   "execution_count": 6,
   "metadata": {},
   "outputs": [
    {
     "data": {
      "text/plain": [
       "['0.txt', '1.txt', '2.txt', '3.txt', '4.txt', '5.txt']"
      ]
     },
     "execution_count": 6,
     "metadata": {},
     "output_type": "execute_result"
    }
   ],
   "source": [
    "file_list = os.listdir('./finded_'+ search_text)\n",
    "\n",
    "file_list.sort()\n",
    "file_list"
   ]
  },
  {
   "cell_type": "code",
   "execution_count": 7,
   "metadata": {},
   "outputs": [],
   "source": [
    "with open('finded_'+ search_text +'.txt', 'w') as outfile:\n",
    "    for filename in file_list:\n",
    "        with open('./finded_' + search_text + '/' + filename) as file:\n",
    "            outfile.write(file.read())"
   ]
  },
  {
   "cell_type": "code",
   "execution_count": 8,
   "metadata": {},
   "outputs": [
    {
     "name": "stderr",
     "output_type": "stream",
     "text": [
      "/Users/kimhyunwoo/.pyenv/versions/3.8.6/lib/python3.8/site-packages/konlpy/tag/_okt.py:17: UserWarning: \"Twitter\" has changed to \"Okt\" since KoNLPy v0.4.5.\n",
      "  warn('\"Twitter\" has changed to \"Okt\" since KoNLPy v0.4.5.')\n"
     ]
    },
    {
     "data": {
      "text/plain": [
       "<wordcloud.wordcloud.WordCloud at 0x107d57d00>"
      ]
     },
     "execution_count": 8,
     "metadata": {},
     "output_type": "execute_result"
    }
   ],
   "source": [
    "text = open('finded_'+ search_text +'.txt').read() \n",
    "\n",
    "twitter = Twitter()\n",
    "\n",
    "sentences_tag = []\n",
    "sentences_tag = twitter.pos(text) \n",
    "\n",
    "noun_adj_list = []\n",
    "\n",
    "for word, tag in sentences_tag:\n",
    "    if tag in ['Noun' , 'Adjective']: \n",
    "        noun_adj_list.append(word)\n",
    "\n",
    "counts = Counter(noun_adj_list)\n",
    "tags = counts.most_common(40) \n",
    "\n",
    "wc = WordCloud(font_path=\"/Users/kimhyunwoo/Library/Fonts/NanumBarunGothic.ttf\",background_color=\"white\", max_font_size=60)\n",
    "cloud = wc.generate_from_frequencies(dict(tags))\n",
    "\n",
    "\n",
    "cloud.to_file('finded_'+ search_text +'.jpg')"
   ]
  },
  {
   "cell_type": "code",
   "execution_count": 9,
   "metadata": {},
   "outputs": [
    {
     "data": {
      "image/jpeg": "[encoded data removed]",
      "text/plain": [
       "<IPython.core.display.Image object>"
      ]
     },
     "execution_count": 9,
     "metadata": {},
     "output_type": "execute_result"
    }
   ],
   "source": [
    "from IPython.display import Image\n",
    "\n",
    "Image(filename='finded_'+ search_text +'.jpg')"
   ]
  },
  {
   "cell_type": "code",
   "execution_count": null,
   "metadata": {},
   "outputs": [],
   "source": []
  }
 ],
 "metadata": {
  "kernelspec": {
   "display_name": "Python 3",
   "language": "python",
   "name": "python3"
  },
  "language_info": {
   "codemirror_mode": {
    "name": "ipython",
    "version": 3
   },
   "file_extension": ".py",
   "mimetype": "text/x-python",
   "name": "python",
   "nbconvert_exporter": "python",
   "pygments_lexer": "ipython3",
   "version": "3.8.6"
  },
  "orig_nbformat": 4
 },
 "nbformat": 4,
 "nbformat_minor": 2
}
